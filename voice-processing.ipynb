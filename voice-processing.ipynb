{
 "cells": [
  {
   "cell_type": "code",
   "execution_count": 76,
   "metadata": {},
   "outputs": [],
   "source": [
    "import numpy as np\n",
    "import matplotlib.pyplot as plt\n",
    "import scipy.io.wavfile as wavfile\n",
    "import scipy.fft as sp_fft\n",
    "import scipy.signal as sp_signal\n",
    "import os"
   ]
  },
  {
   "cell_type": "markdown",
   "metadata": {},
   "source": [
    "\n",
    "##### Ensure the output directory exists\n"
   ]
  },
  {
   "cell_type": "code",
   "execution_count": null,
   "metadata": {},
   "outputs": [],
   "source": [
    "output_dir = \"newaudio\"\n",
    "os.makedirs(output_dir, exist_ok=True)"
   ]
  },
  {
   "cell_type": "markdown",
   "metadata": {},
   "source": [
    "\n",
    "##### read voice file and return amplitude and frequency\n"
   ]
  },
  {
   "cell_type": "code",
   "execution_count": null,
   "metadata": {},
   "outputs": [],
   "source": [
    "def read_voice(path):\n",
    "    rate, data = wavfile.read(path)\n",
    "    Amplitude = sp_fft.rfft(data)\n",
    "    Frequency = sp_fft.rfftfreq(len(data), 1 / rate)\n",
    "    return rate, data, Amplitude, Frequency"
   ]
  },
  {
   "cell_type": "markdown",
   "metadata": {},
   "source": [
    "\n",
    "##### change voice speed by changing the rate\n"
   ]
  },
  {
   "cell_type": "code",
   "execution_count": null,
   "metadata": {},
   "outputs": [],
   "source": [
    "def change_voice_speed(data, rate, speed_factor):\n",
    "    speed_factor = np.sqrt(speed_factor)\n",
    "    new_rate = int(rate * speed_factor)\n",
    "    new_length = int(len(data) / speed_factor)\n",
    "    new_data = sp_signal.resample(data, new_length)\n",
    "    return new_data, new_rate"
   ]
  },
  {
   "cell_type": "markdown",
   "metadata": {},
   "source": [
    "\n",
    "##### low pass filter to remove noise from voice\n"
   ]
  },
  {
   "cell_type": "code",
   "execution_count": null,
   "metadata": {},
   "outputs": [],
   "source": [
    "def low_pass_filter(Frequency, Amplitude, cutoff):\n",
    "    filtered_amplitude = Amplitude.copy()\n",
    "    filtered_amplitude[Frequency > cutoff] = 0\n",
    "    filtered_amplitude[np.abs(Amplitude) > 1e8] = 0\n",
    "    return filtered_amplitude"
   ]
  },
  {
   "cell_type": "markdown",
   "metadata": {},
   "source": [
    "\n",
    "##### reverse the voice to play it backwards\n"
   ]
  },
  {
   "cell_type": "code",
   "execution_count": null,
   "metadata": {},
   "outputs": [],
   "source": [
    "def reverse_voice(data, rate):\n",
    "    return data[::-1], rate  # reverse the data"
   ]
  },
  {
   "cell_type": "markdown",
   "metadata": {},
   "source": [
    "\n",
    "##### mix voices\n"
   ]
  },
  {
   "cell_type": "code",
   "execution_count": null,
   "metadata": {},
   "outputs": [],
   "source": [
    "def mix_voices(Datas, Rates):\n",
    "    min_rate = min(Rates)\n",
    "    resampled_datas = [sp_signal.resample(data, int(len(data) * min_rate / rate)) for data, rate in zip(Datas, Rates)]\n",
    "    max_length = max(len(data) for data in resampled_datas)\n",
    "    normalized_datas = [np.pad(data, (0, max_length - len(data)), 'constant') for data in resampled_datas]\n",
    "    mixed_data = np.sum(normalized_datas, axis=0)\n",
    "    mixed_data = mixed_data / len(Datas)  # Normalize to avoid clipping\n",
    "    return mixed_data.astype(np.int16), min_rate"
   ]
  },
  {
   "cell_type": "markdown",
   "metadata": {},
   "source": [
    "\n",
    "##### write the voice to a file\n"
   ]
  },
  {
   "cell_type": "code",
   "execution_count": null,
   "metadata": {},
   "outputs": [],
   "source": [
    "def write_voice(data, rate, path):\n",
    "    wavfile.write(path, rate, data.astype(np.int16))\n",
    "    return"
   ]
  },
  {
   "cell_type": "markdown",
   "metadata": {},
   "source": [
    "\n",
    "##### plot and save the voice\n"
   ]
  },
  {
   "cell_type": "code",
   "execution_count": null,
   "metadata": {},
   "outputs": [],
   "source": [
    "def plot_voice(Frequency, Amplitude, title=\"Frequency Domain Representation\", filename=None):\n",
    "    plt.plot(Frequency, np.abs(Amplitude))\n",
    "    plt.xlabel(\"Frequency (Hz)\")\n",
    "    plt.ylabel(\"Amplitude\")\n",
    "    plt.title(title)\n",
    "    if filename:\n",
    "        plt.savefig(filename)\n",
    "    plt.close()"
   ]
  },
  {
   "cell_type": "markdown",
   "metadata": {},
   "source": [
    "\n",
    "##### plot and save the spectrogram\n"
   ]
  },
  {
   "cell_type": "code",
   "execution_count": null,
   "metadata": {},
   "outputs": [],
   "source": [
    "def show_spectrogram(data, rate, title=\"Spectrogram\", filename=None):\n",
    "    plt.specgram(data, Fs=rate)\n",
    "    plt.title(title)\n",
    "    if filename:\n",
    "        plt.savefig(filename)\n",
    "    plt.close()"
   ]
  },
  {
   "cell_type": "markdown",
   "metadata": {},
   "source": [
    "\n",
    "##### plot and save the waveform\n"
   ]
  },
  {
   "cell_type": "code",
   "execution_count": null,
   "metadata": {},
   "outputs": [],
   "source": [
    "def plot_waveform(data, rate, title=\"Waveform\", filename=None):\n",
    "    time = np.arange(len(data)) / rate\n",
    "    plt.plot(time, data)\n",
    "    plt.xlabel(\"Time (s)\")\n",
    "    plt.ylabel(\"Amplitude\")\n",
    "    plt.title(title)\n",
    "    if filename:\n",
    "        plt.savefig(filename)\n",
    "    plt.close()"
   ]
  },
  {
   "cell_type": "markdown",
   "metadata": {},
   "source": [
    "\n",
    "#### Clean the voice ####\n"
   ]
  },
  {
   "cell_type": "code",
   "execution_count": null,
   "metadata": {},
   "outputs": [],
   "source": [
    "# Original voice path\n",
    "input_path = \"audio/potc.wav\"\n",
    "\n",
    "# Cleaned voice path\n",
    "cleanpotc = os.path.join(output_dir, \"cleanpotc.wav\")\n",
    "\n",
    "# Read the voice file\n",
    "rate, data, Amplitude, Frequency = read_voice(input_path)\n",
    "\n",
    "# Save original voice plots\n",
    "plot_voice(Frequency, Amplitude, title=\"Original Frequency Domain Representation\", filename=os.path.join(output_dir, \"original_Amplitude.png\"))\n",
    "plot_waveform(data, rate, title=\"Original Waveform\", filename=os.path.join(output_dir, \"original_Data.png\"))\n",
    "show_spectrogram(data, rate, title=\"Original Spectrogram\", filename=os.path.join(output_dir, \"original_Spectrogram.png\"))\n",
    "\n",
    "# cutoff frequency for low pass filter\n",
    "cutoff_frequency = 4000\n",
    "# Apply low pass filter\n",
    "filtered_Amplitude = low_pass_filter(Frequency, Amplitude, cutoff_frequency)\n",
    "\n",
    "# Save filtered voice plots\n",
    "plot_voice(Frequency, filtered_Amplitude, title=\"Filtered Frequency Domain Representation\", filename=os.path.join(output_dir, \"cleanpotc_Amplitude.png\"))\n",
    "\n",
    "# Inverse FFT to get back to time domain\n",
    "filtered_data = sp_fft.irfft(filtered_Amplitude)\n",
    "\n",
    "# Write the filtered voice to a new file\n",
    "write_voice(filtered_data.astype(np.int16), rate, cleanpotc)\n",
    "\n",
    "# Save cleaned voice plots\n",
    "plot_waveform(filtered_data, rate, title=\"Filtered Waveform\", filename=os.path.join(output_dir, \"cleanpotc_Data.png\"))\n",
    "show_spectrogram(filtered_data, rate, title=\"Filtered Spectrogram\", filename=os.path.join(output_dir, \"cleanpotc_Spectrogram.png\"))"
   ]
  },
  {
   "cell_type": "markdown",
   "metadata": {},
   "source": [
    "\n",
    "### Change the speed of the voice ####\n"
   ]
  },
  {
   "cell_type": "code",
   "execution_count": null,
   "metadata": {},
   "outputs": [],
   "source": [
    "\n",
    "# Consider the cleaned voice as the input voice\n",
    "input_path = cleanpotc\n",
    "\n",
    "# Speed changed voice path\n",
    "fastpotc = os.path.join(output_dir, \"fastpotc.wav\") # 2x speed\n",
    "slowpotc = os.path.join(output_dir, \"slowpotc.wav\") # 0.5x speed\n",
    "\n",
    "# Read the voice file\n",
    "rate, data, _, _ = read_voice(input_path)\n",
    "\n",
    "# Change the speed of the voice\n",
    "fast_data, fast_rate = change_voice_speed(data, rate, 2)\n",
    "slow_data, slow_rate = change_voice_speed(data, rate, 0.5)\n",
    "\n",
    "# Write the fast voice to a new file\n",
    "write_voice(fast_data, fast_rate, fastpotc)\n",
    "\n",
    "# Write the slow voice to a new file\n",
    "write_voice(slow_data, slow_rate, slowpotc)\n",
    "\n",
    "# Save fast voice plots\n",
    "plot_waveform(fast_data, fast_rate, title=\"Fast Waveform\", filename=os.path.join(output_dir, \"fastpotc_Data.png\"))\n",
    "show_spectrogram(fast_data, fast_rate, title=\"Fast Spectrogram\", filename=os.path.join(output_dir, \"fastpotc_Spectrogram.png\"))\n",
    "\n",
    "# Save slow voice plots\n",
    "plot_waveform(slow_data, slow_rate, title=\"Slow Waveform\", filename=os.path.join(output_dir, \"slowpotc_Data.png\"))\n",
    "show_spectrogram(slow_data, slow_rate, title=\"Slow Spectrogram\", filename=os.path.join(output_dir, \"slowpotc_Spectrogram.png\"))"
   ]
  },
  {
   "cell_type": "markdown",
   "metadata": {},
   "source": [
    "\n",
    "#### Reverse the voice ####\n"
   ]
  },
  {
   "cell_type": "code",
   "execution_count": null,
   "metadata": {},
   "outputs": [],
   "source": [
    "# Consider the cleaned voice as the input voice\n",
    "input_path = cleanpotc\n",
    "\n",
    "# Reversed voice path\n",
    "revpotc = os.path.join(output_dir, \"revpotc.wav\")\n",
    "\n",
    "# Read the voice file\n",
    "rate, data, _, _ = read_voice(input_path)\n",
    "\n",
    "# Reverse the voice\n",
    "reversed_data, reversed_rate = reverse_voice(data, rate)\n",
    "\n",
    "# Write the reversed voice to a new file\n",
    "write_voice(reversed_data, reversed_rate, revpotc)\n",
    "\n",
    "# Save reversed voice plots\n",
    "plot_waveform(reversed_data, rate, title=\"Reversed Waveform\", filename=os.path.join(output_dir, \"revpotc_Data.png\"))\n",
    "show_spectrogram(reversed_data, rate, title=\"Reversed Spectrogram\", filename=os.path.join(output_dir, \"revpotc_Spectrogram.png\"))"
   ]
  },
  {
   "cell_type": "markdown",
   "metadata": {},
   "source": [
    "\n",
    "#### Mix voices ####\n"
   ]
  },
  {
   "cell_type": "code",
   "execution_count": null,
   "metadata": {},
   "outputs": [],
   "source": [
    "# inputs are all the voices in the previous steps\n",
    "input_paths = [cleanpotc, fastpotc, slowpotc, revpotc]\n",
    "\n",
    "# Mixed voice path\n",
    "mixpotc = os.path.join(output_dir, \"mixpotc.wav\")\n",
    "\n",
    "DataArray = []\n",
    "RateArray = []\n",
    "\n",
    "for path in input_paths:\n",
    "    rate, data, _, _ = read_voice(path)\n",
    "    DataArray.append(data)\n",
    "    RateArray.append(rate)\n",
    "\n",
    "# Mix the voices\n",
    "mixed_data, mixed_rate = mix_voices(DataArray, RateArray)\n",
    "\n",
    "# Write the mixed voice to a new file\n",
    "write_voice(mixed_data, mixed_rate, mixpotc)\n",
    "\n",
    "# Save mixed voice plots\n",
    "plot_waveform(mixed_data, mixed_rate, title=\"Mixed Waveform\", filename=os.path.join(output_dir, \"mixpotc_Data.png\"))\n",
    "show_spectrogram(mixed_data, mixed_rate, title=\"Mixed Spectrogram\", filename=os.path.join(output_dir, \"mixpotc_Spectrogram.png\"))\n",
    "\n",
    "mixed_Amplitude = sp_fft.rfft(mixed_data)\n",
    "mixed_Frequency = sp_fft.rfftfreq(len(mixed_data), 1 / mixed_rate)\n",
    "plot_voice(mixed_Frequency, mixed_Amplitude, title=\"Mixed Frequency Domain Representation\", filename=os.path.join(output_dir, \"mixpotc_Amplitude.png\"))"
   ]
  }
 ],
 "metadata": {
  "kernelspec": {
   "display_name": "Python 3",
   "language": "python",
   "name": "python3"
  },
  "language_info": {
   "codemirror_mode": {
    "name": "ipython",
    "version": 3
   },
   "file_extension": ".py",
   "mimetype": "text/x-python",
   "name": "python",
   "nbconvert_exporter": "python",
   "pygments_lexer": "ipython3",
   "version": "3.9.6"
  }
 },
 "nbformat": 4,
 "nbformat_minor": 2
}
